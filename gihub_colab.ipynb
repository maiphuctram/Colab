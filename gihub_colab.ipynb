{
  "nbformat": 4,
  "nbformat_minor": 0,
  "metadata": {
    "colab": {
      "name": "gihub_colab.ipynb",
      "provenance": [],
      "authorship_tag": "ABX9TyO7iVRVAPHIFvdbU34VZ4CL",
      "include_colab_link": true
    },
    "kernelspec": {
      "name": "python3",
      "display_name": "Python 3"
    }
  },
  "cells": [
    {
      "cell_type": "markdown",
      "metadata": {
        "id": "view-in-github",
        "colab_type": "text"
      },
      "source": [
        "<a href=\"https://colab.research.google.com/github/maiphuctram/Colab/blob/main/gihub_colab.ipynb\" target=\"_parent\"><img src=\"https://colab.research.google.com/assets/colab-badge.svg\" alt=\"Open In Colab\"/></a>"
      ]
    },
    {
      "cell_type": "code",
      "metadata": {
        "id": "KjLi-GRL5wnt"
      },
      "source": [
        ""
      ],
      "execution_count": null,
      "outputs": []
    },
    {
      "cell_type": "markdown",
      "metadata": {
        "id": "JTA5rqKu6j5R"
      },
      "source": [
        "\n",
        "Đây là chương trình đầu tiên."
      ]
    },
    {
      "cell_type": "code",
      "metadata": {
        "id": "AqBqPPB37YjA",
        "outputId": "588e0c09-0e74-40bb-a728-9668cb34f639",
        "colab": {
          "base_uri": "https://localhost:8080/"
        }
      },
      "source": [
        "print(' Hello Gihub & Colab ')"
      ],
      "execution_count": 3,
      "outputs": [
        {
          "output_type": "stream",
          "text": [
            " Hello Gihub & Colab \n"
          ],
          "name": "stdout"
        }
      ]
    }
  ]
}