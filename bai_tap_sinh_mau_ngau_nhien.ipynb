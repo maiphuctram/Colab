{
  "nbformat": 4,
  "nbformat_minor": 0,
  "metadata": {
    "kernelspec": {
      "display_name": "Python 3",
      "language": "python",
      "name": "python3"
    },
    "language_info": {
      "codemirror_mode": {
        "name": "ipython",
        "version": 3
      },
      "file_extension": ".py",
      "mimetype": "text/x-python",
      "name": "python",
      "nbconvert_exporter": "python",
      "pygments_lexer": "ipython3",
      "version": "3.7.3"
    },
    "colab": {
      "name": "bai-tap-sinh-mau-ngau-nhien.ipynb",
      "provenance": [],
      "include_colab_link": true
    }
  },
  "cells": [
    {
      "cell_type": "markdown",
      "metadata": {
        "id": "view-in-github",
        "colab_type": "text"
      },
      "source": [
        "<a href=\"https://colab.research.google.com/github/maiphuctram/Colab/blob/main/bai_tap_sinh_mau_ngau_nhien.ipynb\" target=\"_parent\"><img src=\"https://colab.research.google.com/assets/colab-badge.svg\" alt=\"Open In Colab\"/></a>"
      ]
    },
    {
      "cell_type": "markdown",
      "metadata": {
        "id": "V5WiRSg7fn6K"
      },
      "source": [
        "Sử dụng thư viện Numpy\n",
        "\n",
        "1. Sinh mẫu ngẫu nhiên bằng hàm arange trong khoảng [-15, 27] với khoảng cách là 0.7 và in kết quả ra màn hình"
      ]
    },
    {
      "cell_type": "code",
      "metadata": {
        "id": "7N-efjIUfn6P",
        "outputId": "e528124c-4a8a-4a39-f1d5-0e31131665b6",
        "colab": {
          "base_uri": "https://localhost:8080/"
        }
      },
      "source": [
        "#Code \n",
        "import numpy as np\n",
        "sample1 = np.arange(-15, 27, 0.7)\n",
        "print(sample1)"
      ],
      "execution_count": 2,
      "outputs": [
        {
          "output_type": "stream",
          "text": [
            "[-15.  -14.3 -13.6 -12.9 -12.2 -11.5 -10.8 -10.1  -9.4  -8.7  -8.   -7.3\n",
            "  -6.6  -5.9  -5.2  -4.5  -3.8  -3.1  -2.4  -1.7  -1.   -0.3   0.4   1.1\n",
            "   1.8   2.5   3.2   3.9   4.6   5.3   6.    6.7   7.4   8.1   8.8   9.5\n",
            "  10.2  10.9  11.6  12.3  13.   13.7  14.4  15.1  15.8  16.5  17.2  17.9\n",
            "  18.6  19.3  20.   20.7  21.4  22.1  22.8  23.5  24.2  24.9  25.6  26.3\n",
            "  27. ]\n"
          ],
          "name": "stdout"
        }
      ]
    },
    {
      "cell_type": "markdown",
      "metadata": {
        "id": "ch56roXcfn6T"
      },
      "source": [
        "2. Sinh mẫu ngẫu nhiên theo phân phối chuẩn với mean = 2.7 std = 1.2 và size = 40\n",
        "In kết quả ra màn hình"
      ]
    },
    {
      "cell_type": "code",
      "metadata": {
        "id": "adFCEL7Ifn6U",
        "outputId": "cf1c9128-bc2f-4a23-805c-32e6a3b498d0",
        "colab": {
          "base_uri": "https://localhost:8080/"
        }
      },
      "source": [
        "#Code\n",
        "sample_2 = np.random.normal(2.7, 1.2, 40)\n",
        "print(sample_2[:10])"
      ],
      "execution_count": 3,
      "outputs": [
        {
          "output_type": "stream",
          "text": [
            "[3.97095006 2.92552454 2.44630818 1.55938667 1.81156636 4.29633262\n",
            " 2.38786792 1.62727522 2.59005919 5.27608501]\n"
          ],
          "name": "stdout"
        }
      ]
    },
    {
      "cell_type": "markdown",
      "metadata": {
        "id": "uCSzkdN-fn6V"
      },
      "source": [
        "3. Sinh mẫu ngẫu nhiên từ vector ['Viet Nam', 'Britain', 'France', 'Russia', 'Singapore'] \n",
        "\n",
        "với kích thước là 17 theo phân phối chuẩn"
      ]
    },
    {
      "cell_type": "code",
      "metadata": {
        "id": "SALq0aZTfn6W",
        "outputId": "8425aff7-190a-45f1-a12f-1da3a8c62f52",
        "colab": {
          "base_uri": "https://localhost:8080/"
        }
      },
      "source": [
        "#Code\n",
        "sample_3 = np.random.choice(['Viet Nam', 'Britain', 'France', 'Russia', 'Singapore'], 17)\n",
        "print(sample_3)"
      ],
      "execution_count": 4,
      "outputs": [
        {
          "output_type": "stream",
          "text": [
            "['Singapore' 'Russia' 'Russia' 'France' 'Singapore' 'Viet Nam' 'Russia'\n",
            " 'Singapore' 'Russia' 'Singapore' 'Singapore' 'Viet Nam' 'Viet Nam'\n",
            " 'Britain' 'Viet Nam' 'France' 'France']\n"
          ],
          "name": "stdout"
        }
      ]
    },
    {
      "cell_type": "markdown",
      "metadata": {
        "id": "vGNAnLnmfn6X"
      },
      "source": [
        "4. Sinh mẫu ngẫu nhiên ở câu 3 nhưng không theo phân phối chuẩn mà theo 1 vector đặc tả giá trị xác suất do bạn chọn"
      ]
    },
    {
      "cell_type": "code",
      "metadata": {
        "id": "AWjhcklsfn6Y",
        "outputId": "2787b3d8-088e-4b9f-9752-864b33bf4006",
        "colab": {
          "base_uri": "https://localhost:8080/"
        }
      },
      "source": [
        "#Code\n",
        "sample_4 = np.random.choice(['Viet Nam', 'Britain', 'France', 'Russia', 'Singapore'], 8,p = [0.1, 0.1, 0.3, 0.2, 0.3])\n",
        "print(sample_4)"
      ],
      "execution_count": 5,
      "outputs": [
        {
          "output_type": "stream",
          "text": [
            "['Russia' 'Russia' 'France' 'France' 'Viet Nam' 'Singapore' 'Britain'\n",
            " 'Viet Nam']\n"
          ],
          "name": "stdout"
        }
      ]
    },
    {
      "cell_type": "markdown",
      "metadata": {
        "id": "J9Y7ikt1fn6Z"
      },
      "source": [
        "Sử dụng thư việc scipy.stats để sinh mẫu ngẫu nhiên\n",
        "\n",
        "1. Sinh mẫu ngẫu nhiên theo phân phối chuẩn với mean = 12.7, std = 2.6 và size = 30. In kết quả ra màn hình"
      ]
    },
    {
      "cell_type": "code",
      "metadata": {
        "id": "WL3LxAcrfn6a",
        "outputId": "ec6524b3-f689-43ea-ac2a-e737fec0c775",
        "colab": {
          "base_uri": "https://localhost:8080/"
        }
      },
      "source": [
        "#Code\n",
        "from scipy import stats\n",
        "sample_5 = stats.norm.rvs(12.7, 2.6, 30)\n",
        "print(sample_5[:10])"
      ],
      "execution_count": 6,
      "outputs": [
        {
          "output_type": "stream",
          "text": [
            "[16.34065817 17.16401563 16.99251471  9.65932122 10.7895838  13.00922052\n",
            " 16.89568111 12.82551634 12.00257387 12.9033063 ]\n"
          ],
          "name": "stdout"
        }
      ]
    },
    {
      "cell_type": "markdown",
      "metadata": {
        "id": "Ry93YPyCfn6a"
      },
      "source": [
        "2. Hãy sinh một mẫu ngẫu nhiên theo phân phối Poisson"
      ]
    },
    {
      "cell_type": "code",
      "metadata": {
        "id": "LoBasJqcfn6b",
        "outputId": "b30dd9a2-c2ea-4bcd-984f-98c4496c738c",
        "colab": {
          "base_uri": "https://localhost:8080/"
        }
      },
      "source": [
        "#Code\n",
        "sample_6 = stats.poisson.rvs(loc=20,mu=50,size=500)\n",
        "print(sample_6[:10])"
      ],
      "execution_count": 7,
      "outputs": [
        {
          "output_type": "stream",
          "text": [
            "[76 62 67 61 84 58 73 72 76 74]\n"
          ],
          "name": "stdout"
        }
      ]
    }
  ]
}