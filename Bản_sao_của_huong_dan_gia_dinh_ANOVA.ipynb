{
  "nbformat": 4,
  "nbformat_minor": 0,
  "metadata": {
    "kernelspec": {
      "display_name": "Python 3",
      "language": "python",
      "name": "python3"
    },
    "language_info": {
      "codemirror_mode": {
        "name": "ipython",
        "version": 3
      },
      "file_extension": ".py",
      "mimetype": "text/x-python",
      "name": "python",
      "nbconvert_exporter": "python",
      "pygments_lexer": "ipython3",
      "version": "3.7.3"
    },
    "colab": {
      "name": "Bản sao của huong-dan-gia-dinh-ANOVA.ipynb",
      "provenance": [],
      "collapsed_sections": [],
      "include_colab_link": true
    }
  },
  "cells": [
    {
      "cell_type": "markdown",
      "metadata": {
        "id": "view-in-github",
        "colab_type": "text"
      },
      "source": [
        "<a href=\"https://colab.research.google.com/github/maiphuctram/Colab/blob/main/B%E1%BA%A3n_sao_c%E1%BB%A7a_huong_dan_gia_dinh_ANOVA.ipynb\" target=\"_parent\"><img src=\"https://colab.research.google.com/assets/colab-badge.svg\" alt=\"Open In Colab\"/></a>"
      ]
    },
    {
      "cell_type": "markdown",
      "metadata": {
        "id": "E3To7my0aOz-"
      },
      "source": [
        "PHÂN TÍCH ANOVA MỘT CHIỀU\n",
        "\n",
        "Phân tích ANOVA chấp nhận các giả định sau:\n",
        "\n",
        "(1) Tất cả các nhóm đều độc lập với nhau\n",
        "\n",
        "(2) Dữ liệu của mỗi nhóm đều tuân theo phân phối chuẩn. Tính chất này có thể được kiểm định bằng phương pháp Shapiro-Wilks.\n",
        "\n",
        "(3) Phương sai (variance) của các nhóm bằng nhau. Tính chất này có thể được kiểm định bằng phương pháp kiểm định Bartlett hay Levene.\n",
        "\n",
        "Nếu dữ liệu hiện có thỏa mãn các tính chất trên thì chúng ta mới tiến hành kiểm định ANOVA. Do vậy trước khi tiến hành kiểm định ANOVA, chúng ta cần thực hiện kiểm tra tập dữ liệu cần thỏa mãn 3 tính chất trên.\n",
        "    "
      ]
    },
    {
      "cell_type": "code",
      "metadata": {
        "id": "TQ9VAZlfajkp"
      },
      "source": [
        "from scipy import stats\n",
        "import numpy as np\n",
        "import pandas as pd\n",
        "from scipy.stats import bartlett"
      ],
      "execution_count": 1,
      "outputs": []
    },
    {
      "cell_type": "code",
      "metadata": {
        "id": "f7hofzapaO0b",
        "colab": {
          "base_uri": "https://localhost:8080/"
        },
        "outputId": "195d1df9-22e4-4448-c70c-9fe7f86bc470"
      },
      "source": [
        "#Bước 1: Hãy tạo một tập dữ liệu mẫu sample_1 với kích thước 100 tuân theo phân phối chuẩn\n",
        "\n",
        "# cho mean= 40, std = 0.2\n",
        "sample_1 = stats.norm.rvs(loc= 40, scale= 0.2, size=100)\n",
        "print(sample_1[:10])"
      ],
      "execution_count": 2,
      "outputs": [
        {
          "output_type": "stream",
          "text": [
            "[40.07119795 40.11600636 40.09273381 40.01438043 39.8772825  39.86539329\n",
            " 39.83086642 39.97435419 39.79797428 40.39240028]\n"
          ],
          "name": "stdout"
        }
      ]
    },
    {
      "cell_type": "code",
      "metadata": {
        "id": "vcTtagXOaO0g",
        "colab": {
          "base_uri": "https://localhost:8080/"
        },
        "outputId": "34a1682b-948d-4d4c-9a4f-e7f98bc23d4d"
      },
      "source": [
        "#Bước 2: hãy tạo tập dữ liệu mẫu sample_2 với kích thước 100 tuân theo phân phối Poisson\n",
        "sample_2 = stats.poisson.rvs(loc=40, mu=1, size= 100)\n",
        "print(sample_2[:10])"
      ],
      "execution_count": 3,
      "outputs": [
        {
          "output_type": "stream",
          "text": [
            "[42 41 41 41 40 40 43 40 42 42]\n"
          ],
          "name": "stdout"
        }
      ]
    },
    {
      "cell_type": "markdown",
      "metadata": {
        "id": "Xn0XAnuFaO0h"
      },
      "source": [
        "Hãy tham khảo các hướng dẫn sau để kiểm định tính chất thứ 2 bằng phương pháp Shapiro-Wilks đối với sample_1 và sample_2\n",
        "\n",
        "(1) [Tài liệu tham khảo scipy](https://docs.scipy.org/doc/scipy/reference/generated/scipy.stats.shapiro.html)\n",
        "\n",
        "(2) [Hướng dẫn cụ thể của statology](https://www.statology.org/shapiro-wilk-test-python/)"
      ]
    },
    {
      "cell_type": "code",
      "metadata": {
        "id": "bqr9d5-eaO0i",
        "colab": {
          "base_uri": "https://localhost:8080/"
        },
        "outputId": "2d753fc2-263a-4900-ee2c-e8662f2bf53b"
      },
      "source": [
        "#Code kiểm định tính chất thứ 2 của sample_1 và sample_2\n",
        "print(\"Thử nghiệm Shapiro-Wilk theo phân phối chuẩn chuẩn\")\n",
        "shapiro_test1 = stats.shapiro(sample_1) \n",
        "print(\"Statistic =\", shapiro_test1[0], \"\\n\",\n",
        "      \"p_value =\", shapiro_test1[1])\n",
        "\n",
        "\n",
        "print(\"Thử nghiệm Shapiro-Wilk theo phân phối chuẩn\")\n",
        "shapiro_test2 = stats.shapiro(sample_2)\n",
        "print(\"Statistic =\", shapiro_test2[0], \"\\n\",\n",
        "      \"p_value =\", shapiro_test2[1])\n",
        "\n",
        "\n"
      ],
      "execution_count": 4,
      "outputs": [
        {
          "output_type": "stream",
          "text": [
            "Thử nghiệm Shapiro-Wilk theo phân phối chuẩn chuẩn\n",
            "Statistic = 0.9886605143547058 \n",
            " p_value = 0.5581048727035522\n",
            "Thử nghiệm Shapiro-Wilk theo phân phối chuẩn\n",
            "Statistic = 0.8560035824775696 \n",
            " p_value = 1.98907059711928e-08\n"
          ],
          "name": "stdout"
        }
      ]
    },
    {
      "cell_type": "markdown",
      "metadata": {
        "id": "3p2v-HxmaO0l"
      },
      "source": [
        "Hãy tham khảo các hướng dẫn sau để kiểm định tính chất thứ 3 bằng kiểm định Bartlett hoặc kiểm định Levene\n",
        "\n",
        "(1) [Hướng dẫn tổng quát](https://www.marsja.se/levenes-bartletts-test-of-equality-homogeneity-of-variance-in-python/)\n",
        "\n",
        "(2) [Hướng dẫn ở stackoverflow](https://stackoverflow.com/questions/36141254/how-to-test-for-homoscedasticity-having-the-same-population-variance-in-python)\n",
        "\n",
        "(3) Sử dụng bài giảng về kiểm định Bartlett và Levene ở buổi trước"
      ]
    },
    {
      "cell_type": "code",
      "metadata": {
        "id": "ei2Vm8EEaO0n"
      },
      "source": [
        "#Code kiểm định tính đồng nhất về phương sai của các nhóm"
      ],
      "execution_count": null,
      "outputs": []
    },
    {
      "cell_type": "code",
      "metadata": {
        "id": "R8fwRWLkaO0n",
        "colab": {
          "base_uri": "https://localhost:8080/"
        },
        "outputId": "83ca5d83-844f-4c64-bf4e-fe398ef05235"
      },
      "source": [
        "#Sinh ngẫu nhiên\n",
        "Business = np.random.choice(10, 35)\n",
        "Math = np.random.choice(10, 35)\n",
        "English = np.random.choice(10, 35)\n",
        "Psych = np.random.choice(10, 35)\n",
        "#Tạo dataframe\n",
        "list_of_tuples = list(zip(Business, English, Math, Psych))\n",
        "df2 = pd.DataFrame(list_of_tuples, columns = [\"Business Majors\", \"English Majors\", \"Math Majors\", \"Psych Majors\"])\n",
        "print(df2)\n",
        "#Lấy từng nhóm\n",
        "Bus = df2['Business Majors']\n",
        "Eng = df2['English Majors']\n",
        "Math = df2['Math Majors']\n",
        "Psy = df2['Psych Majors']\n",
        "alpha = 0.05"
      ],
      "execution_count": 5,
      "outputs": [
        {
          "output_type": "stream",
          "text": [
            "    Business Majors  English Majors  Math Majors  Psych Majors\n",
            "0                 1               5            7             5\n",
            "1                 1               2            4             7\n",
            "2                 2               4            2             0\n",
            "3                 5               2            1             5\n",
            "4                 5               8            9             5\n",
            "5                 8               9            7             3\n",
            "6                 6               8            8             5\n",
            "7                 8               5            3             6\n",
            "8                 3               0            4             2\n",
            "9                 2               2            4             3\n",
            "10                8               8            5             3\n",
            "11                0               3            8             8\n",
            "12                3               7            4             0\n",
            "13                4               3            7             7\n",
            "14                1               0            0             7\n",
            "15                8               6            5             3\n",
            "16                7               9            9             4\n",
            "17                6               7            3             7\n",
            "18                2               5            6             7\n",
            "19                6               4            4             2\n",
            "20                7               1            8             6\n",
            "21                7               6            0             6\n",
            "22                6               7            0             4\n",
            "23                7               0            6             1\n",
            "24                6               5            0             2\n",
            "25                8               3            0             6\n",
            "26                8               4            5             7\n",
            "27                3               7            9             3\n",
            "28                7               4            3             7\n",
            "29                1               2            8             3\n",
            "30                8               6            2             2\n",
            "31                1               2            5             2\n",
            "32                4               2            7             4\n",
            "33                2               8            7             8\n",
            "34                4               4            0             9\n"
          ],
          "name": "stdout"
        }
      ]
    },
    {
      "cell_type": "code",
      "metadata": {
        "colab": {
          "base_uri": "https://localhost:8080/"
        },
        "id": "l6u5kRBZbGRM",
        "outputId": "c670a9f5-a086-4530-91c2-ed5c2265d0a3"
      },
      "source": [
        "\n",
        "#Kiểm định Levene\n",
        "stat1, pvalue1 = stats.levene(Bus, Eng, Math, Psy)\n",
        "print(\"Statistic =\", stat1, \"\\n\",\n",
        "      \"p value =\", pvalue1)\n",
        "if pvalue1 < alpha:\n",
        "  print(\"chưa có bằng chứng thống kê bác bỏ Ho, điều này ngụ ý mẫu hiện tại mang tính đồng nhất về phương sai\")\n",
        "else:\n",
        "  print(\"có bằng chứng thống kê bác bỏ Ho, điều này ngụ ý mẫu hiện tại ko mang tính đồng nhất về phương sai\")\n",
        "#Xem phương sai của từng biến\n",
        "b, e, m, p = [np.var(x, ddof=1) for x in [Bus, Eng, Math, Psy]]\n",
        "print(\"PS của Bus =\", b, \"\\n\",\n",
        "    \"PS của Eng =\", e, \"\\n\",\n",
        "    \"PS của Math =\", m, \"\\n\",\n",
        "    \"PS của Psy =\", p, \"\\n\",)"
      ],
      "execution_count": 6,
      "outputs": [
        {
          "output_type": "stream",
          "text": [
            "Statistic = 0.5693779904306226 \n",
            " p value = 0.6361090068506245\n",
            "có bằng chứng thống kê bác bỏ Ho, điều này ngụ ý mẫu hiện tại ko mang tính đồng nhất về phương sai\n",
            "PS của Bus = 7.092436974789915 \n",
            " PS của Eng = 7.080672268907562 \n",
            " PS của Math = 8.840336134453782 \n",
            " PS của Psy = 5.784873949579832 \n",
            "\n"
          ],
          "name": "stdout"
        }
      ]
    },
    {
      "cell_type": "code",
      "metadata": {
        "colab": {
          "base_uri": "https://localhost:8080/"
        },
        "id": "v6wcW4olbJ3x",
        "outputId": "8395a0a3-c70a-485d-d460-12d512ddf36a"
      },
      "source": [
        "#Kiểm định bằng bartlett\n",
        "stat, pvalue = stats.bartlett(Bus, Eng, Math, Psy)\n",
        "print(\"Statistic =\", stat, \"\\n\",\n",
        "      \"p value =\", pvalue)\n",
        "if pvalue > alpha:\n",
        "  print(\"chưa có bằng chứng thống kê bác bỏ Ho, điều này ngụ ý mẫu hiện tại mang tính đồng nhất về phương sai\")\n",
        "else:\n",
        "  print(\"có bằng chứng thống kê bác bỏ Ho, điều này ngụ ý mẫu hiện tại ko mang tính đồng nhất về phương sai\")\n",
        "#Xem phương sai của từng biến\n",
        "b, e, m, p = [np.var(x, ddof=1) for x in [Bus, Eng, Math, Psy]]\n",
        "print(\"PS của Bus =\", b, \"\\n\",\n",
        "      \"PS của Eng =\", e, \"\\n\",\n",
        "      \"PS của Math =\", m, \"\\n\",\n",
        "      \"PS của Psy =\", p, \"\\n\",)"
      ],
      "execution_count": 7,
      "outputs": [
        {
          "output_type": "stream",
          "text": [
            "Statistic = 1.5155526530807335 \n",
            " p value = 0.6786854661844044\n",
            "chưa có bằng chứng thống kê bác bỏ Ho, điều này ngụ ý mẫu hiện tại mang tính đồng nhất về phương sai\n",
            "PS của Bus = 7.092436974789915 \n",
            " PS của Eng = 7.080672268907562 \n",
            " PS của Math = 8.840336134453782 \n",
            " PS của Psy = 5.784873949579832 \n",
            "\n"
          ],
          "name": "stdout"
        }
      ]
    }
  ]
}