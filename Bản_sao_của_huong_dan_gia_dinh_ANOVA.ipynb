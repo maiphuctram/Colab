{
  "nbformat": 4,
  "nbformat_minor": 0,
  "metadata": {
    "kernelspec": {
      "display_name": "Python 3",
      "language": "python",
      "name": "python3"
    },
    "language_info": {
      "codemirror_mode": {
        "name": "ipython",
        "version": 3
      },
      "file_extension": ".py",
      "mimetype": "text/x-python",
      "name": "python",
      "nbconvert_exporter": "python",
      "pygments_lexer": "ipython3",
      "version": "3.7.3"
    },
    "colab": {
      "name": "Bản sao của huong-dan-gia-dinh-ANOVA.ipynb",
      "provenance": [],
      "include_colab_link": true
    }
  },
  "cells": [
    {
      "cell_type": "markdown",
      "metadata": {
        "id": "view-in-github",
        "colab_type": "text"
      },
      "source": [
        "<a href=\"https://colab.research.google.com/github/maiphuctram/Colab/blob/main/B%E1%BA%A3n_sao_c%E1%BB%A7a_huong_dan_gia_dinh_ANOVA.ipynb\" target=\"_parent\"><img src=\"https://colab.research.google.com/assets/colab-badge.svg\" alt=\"Open In Colab\"/></a>"
      ]
    },
    {
      "cell_type": "markdown",
      "metadata": {
        "id": "E3To7my0aOz-"
      },
      "source": [
        "PHÂN TÍCH ANOVA MỘT CHIỀU\n",
        "\n",
        "Phân tích ANOVA chấp nhận các giả định sau:\n",
        "\n",
        "(1) Tất cả các nhóm đều độc lập với nhau\n",
        "\n",
        "(2) Dữ liệu của mỗi nhóm đều tuân theo phân phối chuẩn. Tính chất này có thể được kiểm định bằng phương pháp Shapiro-Wilks.\n",
        "\n",
        "(3) Phương sai (variance) của các nhóm bằng nhau. Tính chất này có thể được kiểm định bằng phương pháp kiểm định Bartlett hay Levene.\n",
        "\n",
        "Nếu dữ liệu hiện có thỏa mãn các tính chất trên thì chúng ta mới tiến hành kiểm định ANOVA. Do vậy trước khi tiến hành kiểm định ANOVA, chúng ta cần thực hiện kiểm tra tập dữ liệu cần thỏa mãn 3 tính chất trên.\n",
        "    "
      ]
    },
    {
      "cell_type": "code",
      "metadata": {
        "id": "TQ9VAZlfajkp"
      },
      "source": [
        "from scipy import stats\n",
        "import numpy as np\n",
        "import pandas as pd\n",
        "from scipy.stats import bartlett"
      ],
      "execution_count": 1,
      "outputs": []
    },
    {
      "cell_type": "code",
      "metadata": {
        "id": "f7hofzapaO0b",
        "colab": {
          "base_uri": "https://localhost:8080/"
        },
        "outputId": "645e21a7-2fae-4498-caf9-2cd6f0dee5e0"
      },
      "source": [
        "#Bước 1: Hãy tạo một tập dữ liệu mẫu sample_1 với kích thước 100 tuân theo phân phối chuẩn\n",
        "\n",
        "# cho mean= 40, std = 0.2\n",
        "sample_1 = stats.norm.rvs(loc= 40, scale= 0.2, size=100)\n",
        "print(sample_1[:10])"
      ],
      "execution_count": 2,
      "outputs": [
        {
          "output_type": "stream",
          "text": [
            "[39.97821897 39.99941223 39.86744417 39.82703719 39.92772712 40.01001193\n",
            " 39.74751474 40.1442484  40.18145889 39.92697034]\n"
          ],
          "name": "stdout"
        }
      ]
    },
    {
      "cell_type": "code",
      "metadata": {
        "id": "vcTtagXOaO0g",
        "colab": {
          "base_uri": "https://localhost:8080/"
        },
        "outputId": "858899c9-c023-4181-f45f-df8db22a31b2"
      },
      "source": [
        "#Bước 2: hãy tạo tập dữ liệu mẫu sample_2 với kích thước 100 tuân theo phân phối Poisson\n",
        "sample_2 = stats.poisson.rvs(loc=40, mu=1, size= 100)\n",
        "print(sample_2[:10])"
      ],
      "execution_count": 3,
      "outputs": [
        {
          "output_type": "stream",
          "text": [
            "[44 40 43 43 42 41 43 41 41 40]\n"
          ],
          "name": "stdout"
        }
      ]
    },
    {
      "cell_type": "markdown",
      "metadata": {
        "id": "Xn0XAnuFaO0h"
      },
      "source": [
        "Hãy tham khảo các hướng dẫn sau để kiểm định tính chất thứ 2 bằng phương pháp Shapiro-Wilks đối với sample_1 và sample_2\n",
        "\n",
        "(1) [Tài liệu tham khảo scipy](https://docs.scipy.org/doc/scipy/reference/generated/scipy.stats.shapiro.html)\n",
        "\n",
        "(2) [Hướng dẫn cụ thể của statology](https://www.statology.org/shapiro-wilk-test-python/)"
      ]
    },
    {
      "cell_type": "code",
      "metadata": {
        "id": "bqr9d5-eaO0i",
        "colab": {
          "base_uri": "https://localhost:8080/"
        },
        "outputId": "ffd0a720-ffe0-4c66-b2ce-557ce7905956"
      },
      "source": [
        "#Code kiểm định tính chất thứ 2 của sample_1 và sample_2\n",
        "\n",
        "#Code kiểm định tính chất thứ 2 của sample_1 và sample_2\n",
        "print(\"Thử nghiệm Shapiro-Wilk theo phân phối chuẩn poisson\")\n",
        "shapiro_test1 = stats.shapiro(sample_1) \n",
        "print(\"Statistic =\", shapiro_test1[0], \"\\n\",\n",
        "      \"p value =\", shapiro_test1[1])\n",
        "\n",
        "\n",
        "print(\"Thử nghiệm Shapiro-Wilk theo phân phối Poisson\")\n",
        "shapiro_test2 = stats.shapiro(sample_2)\n",
        "print(\"Statistic =\", shapiro_test2[0], \"\\n\",\n",
        "      \"p value =\", shapiro_test2[1])"
      ],
      "execution_count": 4,
      "outputs": [
        {
          "output_type": "stream",
          "text": [
            "Thử nghiệm Shapiro-Wilk theo phân phối chuẩn poisson\n",
            "Statistic = 0.9823088645935059 \n",
            " p value = 0.20031429827213287\n",
            "Thử nghiệm Shapiro-Wilk theo phân phối Poisson\n",
            "Statistic = 0.8691436052322388 \n",
            " p value = 6.475175240439057e-08\n"
          ],
          "name": "stdout"
        }
      ]
    },
    {
      "cell_type": "markdown",
      "metadata": {
        "id": "3p2v-HxmaO0l"
      },
      "source": [
        "Hãy tham khảo các hướng dẫn sau để kiểm định tính chất thứ 3 bằng kiểm định Bartlett hoặc kiểm định Levene\n",
        "\n",
        "(1) [Hướng dẫn tổng quát](https://www.marsja.se/levenes-bartletts-test-of-equality-homogeneity-of-variance-in-python/)\n",
        "\n",
        "(2) [Hướng dẫn ở stackoverflow](https://stackoverflow.com/questions/36141254/how-to-test-for-homoscedasticity-having-the-same-population-variance-in-python)\n",
        "\n",
        "(3) Sử dụng bài giảng về kiểm định Bartlett và Levene ở buổi trước"
      ]
    },
    {
      "cell_type": "code",
      "metadata": {
        "id": "ei2Vm8EEaO0n"
      },
      "source": [
        "#Code kiểm định tính đồng nhất về phương sai của các nhóm"
      ],
      "execution_count": null,
      "outputs": []
    },
    {
      "cell_type": "code",
      "metadata": {
        "id": "R8fwRWLkaO0n",
        "colab": {
          "base_uri": "https://localhost:8080/"
        },
        "outputId": "bf29e3f5-b71b-43a1-f09c-6e1f5884b6b0"
      },
      "source": [
        "#Sinh ngẫu nhiên\n",
        "Business = np.random.choice(10, 35)\n",
        "Math = np.random.choice(10, 35)\n",
        "English = np.random.choice(10, 35)\n",
        "Psych = np.random.choice(10, 35)\n",
        "#Tạo dataframe\n",
        "list_of_tuples = list(zip(Business, English, Math, Psych))\n",
        "df2 = pd.DataFrame(list_of_tuples, columns = [\"Business Majors\", \"English Majors\", \"Math Majors\", \"Psych Majors\"])\n",
        "print(df2.head())\n",
        "#Lấy từng nhóm\n",
        "Bus = df2['Business Majors'].unique()\n",
        "Eng = df2['English Majors'].unique()\n",
        "Math = df2['Math Majors'].unique()\n",
        "Psy = df2['Psych Majors'].unique()\n",
        "alpha = 0.05"
      ],
      "execution_count": 5,
      "outputs": [
        {
          "output_type": "stream",
          "text": [
            "   Business Majors  English Majors  Math Majors  Psych Majors\n",
            "0                6               3            8             2\n",
            "1                2               3            5             7\n",
            "2                1               6            1             3\n",
            "3                7               5            2             0\n",
            "4                2               1            5             9\n"
          ],
          "name": "stdout"
        }
      ]
    },
    {
      "cell_type": "code",
      "metadata": {
        "colab": {
          "base_uri": "https://localhost:8080/"
        },
        "id": "l6u5kRBZbGRM",
        "outputId": "cf7182bc-5101-465c-dca4-16daac36652c"
      },
      "source": [
        "\n",
        "#Kiểm định Levene\n",
        "stat1, pvalue1 = stats.levene(Bus, Eng, Math, Psy)\n",
        "print(\"Statistic =\", stat1, \"\\n\",\n",
        "      \"p value =\", pvalue1)\n",
        "if pvalue1 < alpha:\n",
        "  print(\"Các quần thể không có phương sai bằng nhau\")\n",
        "else:\n",
        "  print(\"Các quần thể có phương sai bằng nhau\")\n",
        "#Xem phương sai của từng biến\n",
        "b, e, m, p = [np.var(x, ddof=1) for x in [Bus, Eng, Math, Psy]]\n",
        "print(\"PS của Bus =\", b, \"\\n\",\n",
        "    \"PS của Eng =\", e, \"\\n\",\n",
        "    \"PS của Math =\", m, \"\\n\",\n",
        "    \"PS của Psy =\", p, \"\\n\",)"
      ],
      "execution_count": 10,
      "outputs": [
        {
          "output_type": "stream",
          "text": [
            "Statistic = 0.08248491704374052 \n",
            " p value = 0.9691292600784037\n",
            "Các quần thể có phương sai bằng nhau\n",
            "PS của Bus = 9.166666666666666 \n",
            " PS của Eng = 9.166666666666666 \n",
            " PS của Math = 7.5 \n",
            " PS của Psy = 9.166666666666666 \n",
            "\n"
          ],
          "name": "stdout"
        }
      ]
    },
    {
      "cell_type": "code",
      "metadata": {
        "colab": {
          "base_uri": "https://localhost:8080/"
        },
        "id": "v6wcW4olbJ3x",
        "outputId": "8d18c541-7913-4db4-a4af-9c7cb388c829"
      },
      "source": [
        "#Kiểm định bằng bartlett\n",
        "stat, pvalue = stats.bartlett(Bus, Eng, Math, Psy)\n",
        "print(\"Statistic =\", stat, \"\\n\",\n",
        "      \"p value =\", pvalue)\n",
        "if pvalue1 < alpha:\n",
        "  print(\"Các quần thể không có phương sai bằng nhau\")\n",
        "else:\n",
        "  print(\"Các quần thể có phương sai bằng nhau\")\n",
        "#Xem phương sai của từng biến\n",
        "b, e, m, p = [np.var(x, ddof=1) for x in [Bus, Eng, Math, Psy]]\n",
        "print(\"PS của Bus =\", b, \"\\n\",\n",
        "      \"PS của Eng =\", e, \"\\n\",\n",
        "      \"PS của Math =\", m, \"\\n\",\n",
        "      \"PS của Psy =\", p, \"\\n\",)"
      ],
      "execution_count": 9,
      "outputs": [
        {
          "output_type": "stream",
          "text": [
            "Statistic = 0.11427463983421088 \n",
            " p value = 0.9900710428231514\n",
            "Các quần thể có phương sai bằng nhau\n",
            "PS của Bus = 9.166666666666666 \n",
            " PS của Eng = 9.166666666666666 \n",
            " PS của Math = 7.5 \n",
            " PS của Psy = 9.166666666666666 \n",
            "\n"
          ],
          "name": "stdout"
        }
      ]
    }
  ]
}