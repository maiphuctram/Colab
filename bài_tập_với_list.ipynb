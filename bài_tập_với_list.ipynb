{
  "nbformat": 4,
  "nbformat_minor": 0,
  "metadata": {
    "colab": {
      "name": "bài tập với list",
      "provenance": [],
      "authorship_tag": "ABX9TyPWYRiThRYPmY30b64IaLR8",
      "include_colab_link": true
    },
    "kernelspec": {
      "name": "python3",
      "display_name": "Python 3"
    }
  },
  "cells": [
    {
      "cell_type": "markdown",
      "metadata": {
        "id": "view-in-github",
        "colab_type": "text"
      },
      "source": [
        "<a href=\"https://colab.research.google.com/github/maiphuctram/Colab/blob/main/b%C3%A0i_t%E1%BA%ADp_v%E1%BB%9Bi_list.ipynb\" target=\"_parent\"><img src=\"https://colab.research.google.com/assets/colab-badge.svg\" alt=\"Open In Colab\"/></a>"
      ]
    },
    {
      "cell_type": "code",
      "metadata": {
        "id": "FQG40mkYtOLl",
        "outputId": "d8c55afb-e74c-4486-d62b-ed5e7320bb9d",
        "colab": {
          "base_uri": "https://localhost:8080/"
        }
      },
      "source": [
        "x = []\n",
        "x.append(18)\n",
        "x.append(\"Huế\")\n",
        "y = [12,45,-1,-0.56,\"abc\"]\n",
        "x = x + y\n",
        "print(\"x: \", x)\n",
        "print(x[0])\n",
        "print(x[-1])\n",
        "print(x[:5])\n",
        "print(x[2:])"
      ],
      "execution_count": 2,
      "outputs": [
        {
          "output_type": "stream",
          "text": [
            "x:  [18, 'Huế', 12, 45, -1, -0.56, 'abc']\n",
            "18\n",
            "abc\n",
            "[18, 'Huế', 12, 45, -1]\n",
            "[12, 45, -1, -0.56, 'abc']\n"
          ],
          "name": "stdout"
        }
      ]
    }
  ]
}