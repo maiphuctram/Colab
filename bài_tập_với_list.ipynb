{
  "nbformat": 4,
  "nbformat_minor": 0,
  "metadata": {
    "colab": {
      "name": "bài tập với list",
      "provenance": [],
      "authorship_tag": "ABX9TyO0e0TCDBnBEFvSWrMNbVPp",
      "include_colab_link": true
    },
    "kernelspec": {
      "name": "python3",
      "display_name": "Python 3"
    }
  },
  "cells": [
    {
      "cell_type": "markdown",
      "metadata": {
        "id": "view-in-github",
        "colab_type": "text"
      },
      "source": [
        "<a href=\"https://colab.research.google.com/github/maiphuctram/Colab/blob/main/b%C3%A0i_t%E1%BA%ADp_v%E1%BB%9Bi_list.ipynb\" target=\"_parent\"><img src=\"https://colab.research.google.com/assets/colab-badge.svg\" alt=\"Open In Colab\"/></a>"
      ]
    },
    {
      "cell_type": "code",
      "metadata": {
        "colab": {
          "base_uri": "https://localhost:8080/"
        },
        "id": "b1BdTk0DiKPB",
        "outputId": "0d7f890a-fd3a-47bc-c51d-633ec71ab183"
      },
      "source": [
        " list2 = [({'name': 'Peter', 'age':2}, {'name': 'John', 'age':21}), \n",
        "         ({'name': 'Mary', 'age':2}, {'name': 'Trandanpro', 'age':21}), \n",
        "         ({'name': 'Nam', 'age':2}, {'name': 'Hung', 'age':21}), \n",
        "         ({'name': 'Mai', 'age':2}, {'name': 'Loan', 'age':21})]\n",
        "for index, (x,y) in enumerate(list2):\n",
        "  print(x,\"---\",y)\n",
        "  for i in x:\n",
        "    print(\"phần tử 1: \",x['name'],\"-----\",\"phần tử 2: \",x['age'])\n",
        "  for j in y:\n",
        "    print(\"phần tử 1: \",y['name'],\"-----\",\"phần tử 2: \",y['age'])\n",
        "    \n",
        "    \n",
        "\n",
        "    \n",
        "\n",
        "  "
      ],
      "execution_count": 45,
      "outputs": [
        {
          "output_type": "stream",
          "text": [
            "{'name': 'Peter', 'age': 2} --- {'name': 'John', 'age': 21}\n",
            "phần tử 1:  Peter ----- phần tử 2:  2\n",
            "phần tử 1:  Peter ----- phần tử 2:  2\n",
            "phần tử 1:  John ----- phần tử 2:  21\n",
            "phần tử 1:  John ----- phần tử 2:  21\n",
            "{'name': 'Mary', 'age': 2} --- {'name': 'Trandanpro', 'age': 21}\n",
            "phần tử 1:  Mary ----- phần tử 2:  2\n",
            "phần tử 1:  Mary ----- phần tử 2:  2\n",
            "phần tử 1:  Trandanpro ----- phần tử 2:  21\n",
            "phần tử 1:  Trandanpro ----- phần tử 2:  21\n",
            "{'name': 'Nam', 'age': 2} --- {'name': 'Hung', 'age': 21}\n",
            "phần tử 1:  Nam ----- phần tử 2:  2\n",
            "phần tử 1:  Nam ----- phần tử 2:  2\n",
            "phần tử 1:  Hung ----- phần tử 2:  21\n",
            "phần tử 1:  Hung ----- phần tử 2:  21\n",
            "{'name': 'Mai', 'age': 2} --- {'name': 'Loan', 'age': 21}\n",
            "phần tử 1:  Mai ----- phần tử 2:  2\n",
            "phần tử 1:  Mai ----- phần tử 2:  2\n",
            "phần tử 1:  Loan ----- phần tử 2:  21\n",
            "phần tử 1:  Loan ----- phần tử 2:  21\n"
          ],
          "name": "stdout"
        }
      ]
    }
  ]
}