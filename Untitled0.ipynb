{
  "nbformat": 4,
  "nbformat_minor": 0,
  "metadata": {
    "colab": {
      "name": "Untitled0.ipynb",
      "provenance": [],
      "authorship_tag": "ABX9TyPgh65tqnrj9LCz8Km+Juz4",
      "include_colab_link": true
    },
    "kernelspec": {
      "name": "python3",
      "display_name": "Python 3"
    }
  },
  "cells": [
    {
      "cell_type": "markdown",
      "metadata": {
        "id": "view-in-github",
        "colab_type": "text"
      },
      "source": [
        "<a href=\"https://colab.research.google.com/github/maiphuctram/Colab/blob/main/Untitled0.ipynb\" target=\"_parent\"><img src=\"https://colab.research.google.com/assets/colab-badge.svg\" alt=\"Open In Colab\"/></a>"
      ]
    },
    {
      "cell_type": "markdown",
      "metadata": {
        "id": "YPKKxlMKxPBc"
      },
      "source": [
        "\n",
        "BÀI TẬP LẬP TRÌNH CHƯƠNG 2\n"
      ]
    },
    {
      "cell_type": "markdown",
      "metadata": {
        "id": "bWBIZYWVxB_L"
      },
      "source": [
        "bài1:"
      ]
    },
    {
      "cell_type": "code",
      "metadata": {
        "id": "JAw2TB_PkBO3",
        "outputId": "47fa5946-27bb-4694-83fc-dc7b3410fe20",
        "colab": {
          "base_uri": "https://localhost:8080/",
          "height": 136
        }
      },
      "source": [
        "a = int(input(\"a = \"))\n",
        "b = int(input(\"b = \"))\n",
        "c = a+b\n",
        "print(\"a+b =\", c)\n",
        "d = a*b\n",
        "print(\"a*b =\", d)\n",
        "e = a-b\n",
        "print(\"a-b =\", e)\n",
        "m = a%b\n",
        "print(\"a%b =\", m)\n",
        "n = a//b\n",
        "print(\"a//b =\", n)\n",
        "\n"
      ],
      "execution_count": null,
      "outputs": [
        {
          "output_type": "stream",
          "text": [
            "a = 16\n",
            "b = 35\n",
            "a+b = 51\n",
            "a*b = 560\n",
            "a-b = -19\n",
            "a%b = 16\n",
            "a//b = 0\n"
          ],
          "name": "stdout"
        }
      ]
    },
    {
      "cell_type": "markdown",
      "metadata": {
        "id": "6K8JsBbg8xgR"
      },
      "source": [
        "bài 2:"
      ]
    },
    {
      "cell_type": "code",
      "metadata": {
        "id": "cqRn__If8II6",
        "outputId": "aa2ac5d4-60ef-48f8-941a-652797c2eb6e",
        "colab": {
          "base_uri": "https://localhost:8080/",
          "height": 119
        }
      },
      "source": [
        "a = float(input(\"a = \"))\n",
        "b = float(input(\"b = \"))\n",
        "d = a+b\n",
        "print(\"a+b =\", d)\n",
        "e = a*b\n",
        "print(\"a*b =\", e)\n",
        "n = a-b\n",
        "print(\"a-b =\", n)\n",
        "m = a/b\n",
        "print(\"a/b =\", m)\n"
      ],
      "execution_count": null,
      "outputs": [
        {
          "output_type": "stream",
          "text": [
            "a = 1.2\n",
            "b = 2.4\n",
            "a+b = 3.5999999999999996\n",
            "a*b = 2.88\n",
            "a-b = -1.2\n",
            "a/b = 0.5\n"
          ],
          "name": "stdout"
        }
      ]
    },
    {
      "cell_type": "markdown",
      "metadata": {
        "id": "hPwMMrEEFRT3"
      },
      "source": [
        "bài 3:"
      ]
    },
    {
      "cell_type": "code",
      "metadata": {
        "id": "5bY0p8rGIUJe",
        "outputId": "54a1a0fb-cd30-40f4-ed86-45c610b029bc",
        "colab": {
          "base_uri": "https://localhost:8080/",
          "height": 139
        }
      },
      "source": [
        "x = input(\" Nhập x =\")\n",
        "x= float(x)\n",
        "print(\"Trị tuyệt đối của x:\", abs(x))\n",
        "print(\"Phần nguyên của x:\", int(x))\n",
        "print(\"Chuyển thành số thực x:\", float(x))\n",
        "y =input(\"Nhập y =\")\n",
        "y= float(y)\n",
        "print(\"Lũy thừa x mũ y:\", pow(x,y) )\n",
        "import math\n",
        "if x>=0:    \n",
        "  print (\"Căn bậc 2 của x là \", sqrt(x))\n",
        "else:\n",
        "  print(\"không có căn bậc 2 của x\")"
      ],
      "execution_count": 34,
      "outputs": [
        {
          "output_type": "stream",
          "text": [
            " Nhập x =0\n",
            "Trị tuyệt đối của x: 0.0\n",
            "Phần nguyên của x: 0\n",
            "Chuyển thành số thực x: 0.0\n",
            "Nhập y =4\n",
            "Lũy thừa x mũ y: 0.0\n",
            "không có căn bậc 2 của x\n"
          ],
          "name": "stdout"
        }
      ]
    },
    {
      "cell_type": "markdown",
      "metadata": {
        "id": "ygKZORd2syIS"
      },
      "source": [
        "bài 4:"
      ]
    },
    {
      "cell_type": "code",
      "metadata": {
        "id": "yEmZ63VHs1BD",
        "outputId": "6e9169b8-baaf-4214-f3ff-5a6cfdb5e95b",
        "colab": {
          "base_uri": "https://localhost:8080/",
          "height": 208
        }
      },
      "source": [
        "a=input(\"a=\")\n",
        "b=input(\"b=\")\n",
        "if a>=b:\n",
        "   print(\"a lớn hơn hoặc bằng b\") \n",
        "else:\n",
        "   print(\"b lớn hơn hoặc bằng a\")\n",
        "if a<=b:\n",
        "  print(\"a nhỏ hơn hoặc bằng b\")\n",
        "else:\n",
        "  print(\"b nhỏ hơn hoặc bằng a\")\n",
        "x=input(\"x=\")\n",
        "y=input(\"y=\")\n",
        "if x>y:\n",
        "  print(\"x lớn hơn y\")\n",
        "else:\n",
        "  print(\"y lớn hơn x\")\n",
        "if x<y:\n",
        "  print(\"x nhỏ hơn y\")\n",
        "else:\n",
        "  print(\"y nhỏ hơn x\")\n",
        "c=input(\"c=\")\n",
        "d=input(\"d=\")\n",
        "if c!=d:\n",
        "  print(\"c khác d\")\n",
        "else:\n",
        "  print(\"c giống d\")"
      ],
      "execution_count": 25,
      "outputs": [
        {
          "output_type": "stream",
          "text": [
            "a=3\n",
            "b=5\n",
            "b lớn hơn hoặc bằng a\n",
            "a nhỏ hơn hoặc bằng b\n",
            "x=\n",
            "y=4\n",
            "y lớn hơn x\n",
            "x nhỏ hơn y\n",
            "c=4\n",
            "d=4\n",
            "c giống d\n"
          ],
          "name": "stdout"
        }
      ]
    },
    {
      "cell_type": "markdown",
      "metadata": {
        "id": "Lo58WFNU3uRZ"
      },
      "source": [
        "bài 5:"
      ]
    },
    {
      "cell_type": "code",
      "metadata": {
        "id": "ARoJOz-L3xFr",
        "outputId": "f635e595-4237-40ab-82c0-083a4023666b",
        "colab": {
          "base_uri": "https://localhost:8080/",
          "height": 87
        }
      },
      "source": [
        "u=input(\"nhập một chuỗi dữ liệu 1:\")\n",
        "print(u.upper())\n",
        "i=input(\"nhập một chuỗi dữ liệu 2:\")\n",
        "print(i.lower())"
      ],
      "execution_count": 29,
      "outputs": [
        {
          "output_type": "stream",
          "text": [
            "nhập một chuỗi dữ liệu 1:phạm minh quốc\n",
            "PHẠM MINH QUỐC\n",
            "nhập một chuỗi dữ liệu 2:MAI THỊ PHÚC TRÂM\n",
            "mai thị phúc trâm\n"
          ],
          "name": "stdout"
        }
      ]
    },
    {
      "cell_type": "markdown",
      "metadata": {
        "id": "QthuFS0G61HK"
      },
      "source": [
        "Bài 6:"
      ]
    },
    {
      "cell_type": "code",
      "metadata": {
        "id": "HDXgzRWv63lT",
        "outputId": "3c670416-63c0-415f-f3c6-b8c197c12a5c",
        "colab": {
          "base_uri": "https://localhost:8080/",
          "height": 87
        }
      },
      "source": [
        "e=\"\"\"Cậy em em có chịu lời\n",
        "Ngồi lên cho chị lạy rồi sẽ thưa\n",
        "Giữa đường đứt gánh tương tư\n",
        "Keo loan chắp mối tơ thừa mặc em.\"\"\"\n",
        "print(e)\n"
      ],
      "execution_count": 31,
      "outputs": [
        {
          "output_type": "stream",
          "text": [
            "Cậy em em có chịu lời\n",
            "Ngồi lên cho chị lạy rồi sẽ thưa\n",
            "Giữa đường đứt gánh tương tư\n",
            "Keo loan chắp mối tơ thừa mặc em.\n"
          ],
          "name": "stdout"
        }
      ]
    }
  ]
}