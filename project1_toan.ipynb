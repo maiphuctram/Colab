{
  "nbformat": 4,
  "nbformat_minor": 0,
  "metadata": {
    "colab": {
      "name": "project1_toan",
      "provenance": [],
      "authorship_tag": "ABX9TyMWVBAvfGNLUY4ESXAQYxgu",
      "include_colab_link": true
    },
    "kernelspec": {
      "name": "python3",
      "display_name": "Python 3"
    },
    "language_info": {
      "name": "python"
    }
  },
  "cells": [
    {
      "cell_type": "markdown",
      "metadata": {
        "id": "view-in-github",
        "colab_type": "text"
      },
      "source": [
        "<a href=\"https://colab.research.google.com/github/maiphuctram/Colab/blob/main/project1_toan.ipynb\" target=\"_parent\"><img src=\"https://colab.research.google.com/assets/colab-badge.svg\" alt=\"Open In Colab\"/></a>"
      ]
    },
    {
      "cell_type": "code",
      "metadata": {
        "id": "zl08bLdmE0T8"
      },
      "source": [
        "import numpy as np\n",
        "import math"
      ],
      "execution_count": null,
      "outputs": []
    },
    {
      "cell_type": "code",
      "metadata": {
        "colab": {
          "base_uri": "https://localhost:8080/"
        },
        "id": "EX3XjgFyBZnK",
        "outputId": "d933ca32-650b-407b-df7f-aceba10d9e51"
      },
      "source": [
        "class Array:\n",
        "  def __init__(self, n):\n",
        "    self.a = np.random.rand(n)\n",
        "    self.n = n\n",
        "\n",
        "  def mean(self):\n",
        "    return float((sum(self.a)/self.n))\n",
        "\n",
        "  def mode(self):\n",
        "    giatri_max = (0,0)\n",
        "    listnum = list(self.a)\n",
        "    for num in listnum:\n",
        "      so_bien  = listnum.count(num)\n",
        "      if so_bien > giatri_max[0]:\n",
        "        giatri_max = (so_bien, num)\n",
        "    return giatri_max[1]\n",
        "\n",
        "  def variance(self):\n",
        "    #Trung bình\n",
        "    m = Array.mean(self)\n",
        "    deviations = [(x - m) ** 2 for x in self.a]\n",
        "    variance = sum(deviations) / n\n",
        "    return variance\t\n",
        "\n",
        "  def standard_deviation(self):\n",
        "    result = math.sqrt(Array.variance(self))\n",
        "    return result\n",
        "n = 10\n",
        "a1 = Array(n)\n",
        "print(a1.a)\n",
        "print(a1.mean())\n",
        "print(a1.mode())\n",
        "print(a1.variance())\n",
        "print(a1.standard_deviation())"
      ],
      "execution_count": null,
      "outputs": [
        {
          "output_type": "stream",
          "text": [
            "[0.72249741 0.58170172 0.53437358 0.21159437 0.44221678 0.96522454\n",
            " 0.03431994 0.12521184 0.80514739 0.71179905]\n",
            "0.5134086604307119\n",
            "0.7224974074655592\n",
            "0.08538123098863161\n",
            "0.29220066904206704\n"
          ],
          "name": "stdout"
        }
      ]
    },
    {
      "cell_type": "code",
      "metadata": {
        "id": "xSeynVHbkUGF"
      },
      "source": [
        ""
      ],
      "execution_count": null,
      "outputs": []
    }
  ]
}